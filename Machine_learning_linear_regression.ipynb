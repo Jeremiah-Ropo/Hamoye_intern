{
 "cells": [
  {
   "cell_type": "code",
   "execution_count": 2,
   "metadata": {
    "scrolled": false
   },
   "outputs": [],
   "source": [
    "import pandas as pd\n",
    "import numpy as np\n",
    "import matplotlib.pyplot as plt\n",
    "import seaborn as sns"
   ]
  },
  {
   "cell_type": "code",
   "execution_count": 49,
   "metadata": {},
   "outputs": [],
   "source": [
    "df = pd.read_csv(\"https://archive.ics.uci.edu/ml/machine-learning-databases/00374/energydata_complete.csv\")"
   ]
  },
  {
   "cell_type": "markdown",
   "metadata": {},
   "source": [
    "To answer some questions, you will need to normalize the dataset using the MinMaxScaler after removing the following columns: [“date”, “lights”]. The target variable is “Appliances”. Use a 70-30 train-test set split with a random state of 42 (for reproducibility). Run a multiple linear regression using the training set and evaluate your model on the test set."
   ]
  },
  {
   "cell_type": "code",
   "execution_count": 50,
   "metadata": {},
   "outputs": [
    {
     "data": {
      "text/plain": [
       "<matplotlib.axes._subplots.AxesSubplot at 0x28a82479b08>"
      ]
     },
     "execution_count": 50,
     "metadata": {},
     "output_type": "execute_result"
    },
    {
     "data": {
      "image/png": "[encoded data removed]",
      "text/plain": [
       "<Figure size 432x288 with 1 Axes>"
      ]
     },
     "metadata": {
      "needs_background": "light"
     },
     "output_type": "display_data"
    }
   ],
   "source": [
    "#Simple Linear Regression\n",
    "\n",
    "#df=pd.read_excel('https://archive.ics.uci.edu/ml/machine-learning-databases/00242/ENB2012_data.xlsx')\n",
    "#rename columns\n",
    "column_names = {'date': \"date\", 'Appliances': 'Appliances', 'lights': 'lights', 'T1': 'Temp_kitchen', 'RH_1': 'Hum_kitchen', 'T2':'Temp_living', 'RH_2': 'Hum_living', 'T3':\n",
    "                'Temp_laundry',\n",
    "       'RH_3': 'Hum_laundry', 'T4' : 'Temp_office', 'RH_4': 'Hum_office', 'T5': 'Temp_bathroom', 'RH_5': 'Hum_bathroom', 'T6' :'Temp_outsideB', 'RH_6' : \n",
    "                'Hum_outsideB', 'T7': 'Temp_ironing', 'RH_7': 'Hum_ironing', 'T8': 'Temp_teenager',\n",
    "       'RH_8': 'Hum_teenager', 'T9': 'Temp_parent', 'RH_9':'Hum_parent', 'T_out' : 'T_out', 'Press_mm_hg': 'Press_mm_hg', 'RH_out': 'RH_out', 'Windspeed': 'Windspeed',\n",
    "       'Visibility':'Visibility', 'Tdewpoint':'Tdewpoint', 'rv1':'Rand_var1', 'rv2': 'Rand_var2'}\n",
    "df = df.rename(columns=column_names)\n",
    "#select a sample of the dataset\n",
    "simple_linear_reg_df = df[['T_out', 'Appliances']].sample(35, random_state=2)\n",
    "#regression plot\n",
    "sns.regplot(x=\"T_out\", y=\"Appliances\", data=simple_linear_reg_df)"
   ]
  },
  {
   "cell_type": "code",
   "execution_count": 51,
   "metadata": {},
   "outputs": [
    {
     "data": {
      "text/html": [
       "<div>\n",
       "<style scoped>\n",
       "    .dataframe tbody tr th:only-of-type {\n",
       "        vertical-align: middle;\n",
       "    }\n",
       "\n",
       "    .dataframe tbody tr th {\n",
       "        vertical-align: top;\n",
       "    }\n",
       "\n",
       "    .dataframe thead th {\n",
       "        text-align: right;\n",
       "    }\n",
       "</style>\n",
       "<table border=\"1\" class=\"dataframe\">\n",
       "  <thead>\n",
       "    <tr style=\"text-align: right;\">\n",
       "      <th></th>\n",
       "      <th>date</th>\n",
       "      <th>Appliances</th>\n",
       "      <th>lights</th>\n",
       "      <th>Temp_kitchen</th>\n",
       "      <th>Hum_kitchen</th>\n",
       "      <th>Temp_living</th>\n",
       "      <th>Hum_living</th>\n",
       "      <th>Temp_laundry</th>\n",
       "      <th>Hum_laundry</th>\n",
       "      <th>Temp_office</th>\n",
       "      <th>Hum_office</th>\n",
       "      <th>Temp_bathroom</th>\n",
       "      <th>Hum_bathroom</th>\n",
       "      <th>Temp_outsideB</th>\n",
       "      <th>Hum_outsideB</th>\n",
       "      <th>Temp_ironing</th>\n",
       "      <th>Hum_ironing</th>\n",
       "      <th>Temp_teenager</th>\n",
       "      <th>Hum_teenager</th>\n",
       "      <th>Temp_parent</th>\n",
       "      <th>Hum_parent</th>\n",
       "      <th>T_out</th>\n",
       "      <th>Press_mm_hg</th>\n",
       "      <th>RH_out</th>\n",
       "      <th>Windspeed</th>\n",
       "      <th>Visibility</th>\n",
       "      <th>Tdewpoint</th>\n",
       "      <th>Rand_var1</th>\n",
       "      <th>Rand_var2</th>\n",
       "    </tr>\n",
       "  </thead>\n",
       "  <tbody>\n",
       "    <tr>\n",
       "      <td>0</td>\n",
       "      <td>2016-01-11 17:00:00</td>\n",
       "      <td>60</td>\n",
       "      <td>30</td>\n",
       "      <td>19.89</td>\n",
       "      <td>47.596667</td>\n",
       "      <td>19.2</td>\n",
       "      <td>44.790000</td>\n",
       "      <td>19.79</td>\n",
       "      <td>44.730000</td>\n",
       "      <td>19.000000</td>\n",
       "      <td>45.566667</td>\n",
       "      <td>17.166667</td>\n",
       "      <td>55.20</td>\n",
       "      <td>7.026667</td>\n",
       "      <td>84.256667</td>\n",
       "      <td>17.200000</td>\n",
       "      <td>41.626667</td>\n",
       "      <td>18.2</td>\n",
       "      <td>48.900000</td>\n",
       "      <td>17.033333</td>\n",
       "      <td>45.53</td>\n",
       "      <td>6.600000</td>\n",
       "      <td>733.5</td>\n",
       "      <td>92.0</td>\n",
       "      <td>7.000000</td>\n",
       "      <td>63.000000</td>\n",
       "      <td>5.3</td>\n",
       "      <td>13.275433</td>\n",
       "      <td>13.275433</td>\n",
       "    </tr>\n",
       "    <tr>\n",
       "      <td>1</td>\n",
       "      <td>2016-01-11 17:10:00</td>\n",
       "      <td>60</td>\n",
       "      <td>30</td>\n",
       "      <td>19.89</td>\n",
       "      <td>46.693333</td>\n",
       "      <td>19.2</td>\n",
       "      <td>44.722500</td>\n",
       "      <td>19.79</td>\n",
       "      <td>44.790000</td>\n",
       "      <td>19.000000</td>\n",
       "      <td>45.992500</td>\n",
       "      <td>17.166667</td>\n",
       "      <td>55.20</td>\n",
       "      <td>6.833333</td>\n",
       "      <td>84.063333</td>\n",
       "      <td>17.200000</td>\n",
       "      <td>41.560000</td>\n",
       "      <td>18.2</td>\n",
       "      <td>48.863333</td>\n",
       "      <td>17.066667</td>\n",
       "      <td>45.56</td>\n",
       "      <td>6.483333</td>\n",
       "      <td>733.6</td>\n",
       "      <td>92.0</td>\n",
       "      <td>6.666667</td>\n",
       "      <td>59.166667</td>\n",
       "      <td>5.2</td>\n",
       "      <td>18.606195</td>\n",
       "      <td>18.606195</td>\n",
       "    </tr>\n",
       "    <tr>\n",
       "      <td>2</td>\n",
       "      <td>2016-01-11 17:20:00</td>\n",
       "      <td>50</td>\n",
       "      <td>30</td>\n",
       "      <td>19.89</td>\n",
       "      <td>46.300000</td>\n",
       "      <td>19.2</td>\n",
       "      <td>44.626667</td>\n",
       "      <td>19.79</td>\n",
       "      <td>44.933333</td>\n",
       "      <td>18.926667</td>\n",
       "      <td>45.890000</td>\n",
       "      <td>17.166667</td>\n",
       "      <td>55.09</td>\n",
       "      <td>6.560000</td>\n",
       "      <td>83.156667</td>\n",
       "      <td>17.200000</td>\n",
       "      <td>41.433333</td>\n",
       "      <td>18.2</td>\n",
       "      <td>48.730000</td>\n",
       "      <td>17.000000</td>\n",
       "      <td>45.50</td>\n",
       "      <td>6.366667</td>\n",
       "      <td>733.7</td>\n",
       "      <td>92.0</td>\n",
       "      <td>6.333333</td>\n",
       "      <td>55.333333</td>\n",
       "      <td>5.1</td>\n",
       "      <td>28.642668</td>\n",
       "      <td>28.642668</td>\n",
       "    </tr>\n",
       "    <tr>\n",
       "      <td>3</td>\n",
       "      <td>2016-01-11 17:30:00</td>\n",
       "      <td>50</td>\n",
       "      <td>40</td>\n",
       "      <td>19.89</td>\n",
       "      <td>46.066667</td>\n",
       "      <td>19.2</td>\n",
       "      <td>44.590000</td>\n",
       "      <td>19.79</td>\n",
       "      <td>45.000000</td>\n",
       "      <td>18.890000</td>\n",
       "      <td>45.723333</td>\n",
       "      <td>17.166667</td>\n",
       "      <td>55.09</td>\n",
       "      <td>6.433333</td>\n",
       "      <td>83.423333</td>\n",
       "      <td>17.133333</td>\n",
       "      <td>41.290000</td>\n",
       "      <td>18.1</td>\n",
       "      <td>48.590000</td>\n",
       "      <td>17.000000</td>\n",
       "      <td>45.40</td>\n",
       "      <td>6.250000</td>\n",
       "      <td>733.8</td>\n",
       "      <td>92.0</td>\n",
       "      <td>6.000000</td>\n",
       "      <td>51.500000</td>\n",
       "      <td>5.0</td>\n",
       "      <td>45.410389</td>\n",
       "      <td>45.410389</td>\n",
       "    </tr>\n",
       "    <tr>\n",
       "      <td>4</td>\n",
       "      <td>2016-01-11 17:40:00</td>\n",
       "      <td>60</td>\n",
       "      <td>40</td>\n",
       "      <td>19.89</td>\n",
       "      <td>46.333333</td>\n",
       "      <td>19.2</td>\n",
       "      <td>44.530000</td>\n",
       "      <td>19.79</td>\n",
       "      <td>45.000000</td>\n",
       "      <td>18.890000</td>\n",
       "      <td>45.530000</td>\n",
       "      <td>17.200000</td>\n",
       "      <td>55.09</td>\n",
       "      <td>6.366667</td>\n",
       "      <td>84.893333</td>\n",
       "      <td>17.200000</td>\n",
       "      <td>41.230000</td>\n",
       "      <td>18.1</td>\n",
       "      <td>48.590000</td>\n",
       "      <td>17.000000</td>\n",
       "      <td>45.40</td>\n",
       "      <td>6.133333</td>\n",
       "      <td>733.9</td>\n",
       "      <td>92.0</td>\n",
       "      <td>5.666667</td>\n",
       "      <td>47.666667</td>\n",
       "      <td>4.9</td>\n",
       "      <td>10.084097</td>\n",
       "      <td>10.084097</td>\n",
       "    </tr>\n",
       "  </tbody>\n",
       "</table>\n",
       "</div>"
      ],
      "text/plain": [
       "                  date  Appliances  lights  Temp_kitchen  Hum_kitchen  \\\n",
       "0  2016-01-11 17:00:00          60      30         19.89    47.596667   \n",
       "1  2016-01-11 17:10:00          60      30         19.89    46.693333   \n",
       "2  2016-01-11 17:20:00          50      30         19.89    46.300000   \n",
       "3  2016-01-11 17:30:00          50      40         19.89    46.066667   \n",
       "4  2016-01-11 17:40:00          60      40         19.89    46.333333   \n",
       "\n",
       "   Temp_living  Hum_living  Temp_laundry  Hum_laundry  Temp_office  \\\n",
       "0         19.2   44.790000         19.79    44.730000    19.000000   \n",
       "1         19.2   44.722500         19.79    44.790000    19.000000   \n",
       "2         19.2   44.626667         19.79    44.933333    18.926667   \n",
       "3         19.2   44.590000         19.79    45.000000    18.890000   \n",
       "4         19.2   44.530000         19.79    45.000000    18.890000   \n",
       "\n",
       "   Hum_office  Temp_bathroom  Hum_bathroom  Temp_outsideB  Hum_outsideB  \\\n",
       "0   45.566667      17.166667         55.20       7.026667     84.256667   \n",
       "1   45.992500      17.166667         55.20       6.833333     84.063333   \n",
       "2   45.890000      17.166667         55.09       6.560000     83.156667   \n",
       "3   45.723333      17.166667         55.09       6.433333     83.423333   \n",
       "4   45.530000      17.200000         55.09       6.366667     84.893333   \n",
       "\n",
       "   Temp_ironing  Hum_ironing  Temp_teenager  Hum_teenager  Temp_parent  \\\n",
       "0     17.200000    41.626667           18.2     48.900000    17.033333   \n",
       "1     17.200000    41.560000           18.2     48.863333    17.066667   \n",
       "2     17.200000    41.433333           18.2     48.730000    17.000000   \n",
       "3     17.133333    41.290000           18.1     48.590000    17.000000   \n",
       "4     17.200000    41.230000           18.1     48.590000    17.000000   \n",
       "\n",
       "   Hum_parent     T_out  Press_mm_hg  RH_out  Windspeed  Visibility  \\\n",
       "0       45.53  6.600000        733.5    92.0   7.000000   63.000000   \n",
       "1       45.56  6.483333        733.6    92.0   6.666667   59.166667   \n",
       "2       45.50  6.366667        733.7    92.0   6.333333   55.333333   \n",
       "3       45.40  6.250000        733.8    92.0   6.000000   51.500000   \n",
       "4       45.40  6.133333        733.9    92.0   5.666667   47.666667   \n",
       "\n",
       "   Tdewpoint  Rand_var1  Rand_var2  \n",
       "0        5.3  13.275433  13.275433  \n",
       "1        5.2  18.606195  18.606195  \n",
       "2        5.1  28.642668  28.642668  \n",
       "3        5.0  45.410389  45.410389  \n",
       "4        4.9  10.084097  10.084097  "
      ]
     },
     "execution_count": 51,
     "metadata": {},
     "output_type": "execute_result"
    }
   ],
   "source": [
    "#pd.set_option(\"display.max_columns\", None)\n",
    "df.head()\n",
    "#df.columns"
   ]
  },
  {
   "cell_type": "code",
   "execution_count": 52,
   "metadata": {},
   "outputs": [],
   "source": [
    "#Measuring Regression Performance\n",
    "#Firstly, we normalise our dataset to a common scale using the min max scaler\n",
    "from sklearn.preprocessing import MinMaxScaler\n",
    "scaler = MinMaxScaler()\n",
    "df = df.copy()\n",
    "df = df.drop(columns=['date', 'lights'])\n",
    "normalised_df = pd.DataFrame(scaler.fit_transform(df), columns=df.columns)\n",
    "features_df = normalised_df\n",
    "target = normalised_df['Appliances']"
   ]
  },
  {
   "cell_type": "code",
   "execution_count": 103,
   "metadata": {},
   "outputs": [],
   "source": [
    "#Now, we split our dataset into the training and testing dataset. Recall that we had earlier segmented the features and target variables.\n",
    "from sklearn.linear_model import LinearRegression\n",
    "from sklearn.model_selection import train_test_split\n",
    "x_train, x_test, y_train, y_test = train_test_split(features_df, target, test_size=0.3, random_state=42)\n",
    "linear_model = LinearRegression()"
   ]
  },
  {
   "cell_type": "code",
   "execution_count": 104,
   "metadata": {},
   "outputs": [],
   "source": [
    "#fit the model to the training dataset\n",
    "linear_model.fit(x_train, y_train)\n",
    "#obtain predictions\n",
    "predicted_values = linear_model.predict(x_test)"
   ]
  },
  {
   "cell_type": "code",
   "execution_count": 105,
   "metadata": {},
   "outputs": [
    {
     "data": {
      "text/plain": [
       "0.0"
      ]
     },
     "execution_count": 105,
     "metadata": {},
     "output_type": "execute_result"
    }
   ],
   "source": [
    "#● Mean Absolute Error (MAE)\n",
    "from sklearn.metrics import mean_absolute_error\n",
    "mae = mean_absolute_error(y_test, predicted_values)\n",
    "round(mae,2) #prints 0.063\n",
    "#print(mae)0.05565321058223605"
   ]
  },
  {
   "cell_type": "code",
   "execution_count": 87,
   "metadata": {},
   "outputs": [
    {
     "data": {
      "text/plain": [
       "52.36"
      ]
     },
     "execution_count": 87,
     "metadata": {},
     "output_type": "execute_result"
    }
   ],
   "source": [
    "#● Residual Sum of Squares (RSS)\n",
    "import numpy as np\n",
    "rss = np.sum(np.square(y_test - predicted_values))\n",
    "#print(rss)52.36003038390005\n",
    "round(rss, 2) #prints 1.823"
   ]
  },
  {
   "cell_type": "code",
   "execution_count": 99,
   "metadata": {},
   "outputs": [
    {
     "data": {
      "text/plain": [
       "0.09"
      ]
     },
     "execution_count": 99,
     "metadata": {},
     "output_type": "execute_result"
    }
   ],
   "source": [
    "#● Root Mean Square Error (RMSE)\n",
    "from sklearn.metrics import mean_squared_error\n",
    "rmse = np.sqrt(mean_squared_error(y_test, predicted_values))\n",
    "#print(rmse)0.09403779005863358\n",
    "round(rmse, 2) #prints 0.089"
   ]
  },
  {
   "cell_type": "code",
   "execution_count": 85,
   "metadata": {},
   "outputs": [
    {
     "data": {
      "text/plain": [
       "0.02"
      ]
     },
     "execution_count": 85,
     "metadata": {},
     "output_type": "execute_result"
    }
   ],
   "source": [
    "#● R-Squared\n",
    "from sklearn.metrics import r2_score\n",
    "r2_score = r2_score(y_test, predicted_values)\n",
    "#print(r2_score)0.01729168186846375\n",
    "round(r2_score, 2) #prints 0.893"
   ]
  },
  {
   "cell_type": "code",
   "execution_count": 106,
   "metadata": {},
   "outputs": [
    {
     "data": {
      "text/plain": [
       "0.0"
      ]
     },
     "execution_count": 106,
     "metadata": {},
     "output_type": "execute_result"
    }
   ],
   "source": [
    "#Lesson 4: Penalization Methods\n",
    "#● Ridge Regression\n",
    "from sklearn.linear_model import Ridge\n",
    "ridge_reg = Ridge(alpha=0.4)\n",
    "ridge_reg.fit(x_train, y_train)\n",
    "predicted_values = ridge_reg.predict(x_test)\n",
    "#from sklearn.metrics import mean_squared_error\n",
    "rmse = np.sqrt(mean_squared_error(y_test, predicted_values))\n",
    "#print(rmse)0.09403779005863358\n",
    "round(rmse, 2)"
   ]
  },
  {
   "cell_type": "code",
   "execution_count": 107,
   "metadata": {},
   "outputs": [
    {
     "data": {
      "text/plain": [
       "0.0"
      ]
     },
     "execution_count": 107,
     "metadata": {},
     "output_type": "execute_result"
    }
   ],
   "source": [
    "#● Feature Selection and Lasso Regression\n",
    "from sklearn.linear_model import Lasso\n",
    "lasso_reg = Lasso(alpha=0.001)\n",
    "lasso_reg.fit(x_train, y_train)\n",
    "\n",
    "predicted_values = lasso_reg.predict(x_test)\n",
    "rmse = np.sqrt(mean_squared_error(y_test, predicted_values))\n",
    "round(rmse)"
   ]
  },
  {
   "cell_type": "code",
   "execution_count": 108,
   "metadata": {},
   "outputs": [],
   "source": [
    "#comparing the effects of regularisation\n",
    "def get_weights_df(model, feat, col_name):\n",
    "    #this function returns the weight of every feature\n",
    "    weights = pd.Series(model.coef_, feat.columns).sort_values()\n",
    "    weights_df = pd.DataFrame(weights).reset_index()\n",
    "    weights_df.columns = ['Features', col_name]\n",
    "    weights_df[col_name].round(3)\n",
    "    return weights_df"
   ]
  },
  {
   "cell_type": "code",
   "execution_count": 109,
   "metadata": {},
   "outputs": [],
   "source": [
    "linear_model_weights = get_weights_df(linear_model, x_train, 'Linear_Model_Weight')\n",
    "ridge_weights_df = get_weights_df(ridge_reg, x_train, 'Ridge_Weight')\n",
    "lasso_weights_df = get_weights_df(lasso_reg, x_train, 'Lasso_weight')\n",
    "\n",
    "final_weights = pd.merge(linear_model_weights, ridge_weights_df, on='Features')\n",
    "final_weights = pd.merge(final_weights, lasso_weights_df, on='Features')"
   ]
  },
  {
   "cell_type": "code",
   "execution_count": 110,
   "metadata": {},
   "outputs": [
    {
     "name": "stdout",
     "output_type": "stream",
     "text": [
      "         Features  Linear_Model_Weight  Ridge_Weight  Lasso_weight\n",
      "0           T_out        -3.434246e-16     -0.000952      0.000000\n",
      "1     Hum_ironing        -2.503400e-16     -0.000167     -0.000000\n",
      "2    Temp_laundry        -1.921194e-16      0.001046      0.000000\n",
      "3       Windspeed        -1.641454e-16      0.000110      0.000000\n",
      "4     Hum_laundry        -1.507025e-16      0.000346      0.000000\n",
      "5   Temp_teenager        -1.495324e-16      0.000367      0.000000\n",
      "6     Temp_living        -1.450848e-16     -0.000732      0.000000\n",
      "7    Hum_outsideB        -1.254853e-16      0.000129     -0.000000\n",
      "8      Hum_living        -3.779107e-17     -0.001493     -0.000000\n",
      "9   Temp_outsideB        -3.426886e-17      0.000789      0.000000\n",
      "10    Temp_parent        -3.137100e-17     -0.000686      0.000000\n",
      "11      Rand_var1        -3.063599e-17      0.000003     -0.000000\n",
      "12      Rand_var2        -3.063599e-17      0.000003     -0.000000\n",
      "13    Hum_kitchen        -2.747249e-17      0.001887      0.000000\n",
      "14      Tdewpoint        -2.726127e-17      0.000302      0.000000\n",
      "15    Press_mm_hg         3.369157e-18      0.000024     -0.000000\n",
      "16         RH_out         4.058812e-17     -0.000199     -0.000000\n",
      "17     Hum_office         4.418152e-17      0.000089      0.000000\n",
      "18     Hum_parent         4.751455e-17     -0.000150     -0.000000\n",
      "19   Hum_bathroom         5.238154e-17      0.000059      0.000000\n",
      "20   Temp_ironing         6.729544e-17      0.000037      0.000000\n",
      "21    Temp_office         7.961417e-17      0.000099      0.000000\n",
      "22  Temp_bathroom         9.036914e-17     -0.000072      0.000000\n",
      "23     Visibility         1.507914e-16      0.000044      0.000000\n",
      "24   Hum_teenager         1.849254e-16     -0.000570     -0.000000\n",
      "25   Temp_kitchen         3.325031e-16     -0.000067      0.000000\n",
      "26     Appliances         1.000000e+00      0.996368      0.891991\n"
     ]
    }
   ],
   "source": [
    "print(final_weights)"
   ]
  },
  {
   "cell_type": "code",
   "execution_count": null,
   "metadata": {},
   "outputs": [],
   "source": []
  }
 ],
 "metadata": {
  "kernelspec": {
   "display_name": "Python 3",
   "language": "python",
   "name": "python3"
  },
  "language_info": {
   "codemirror_mode": {
    "name": "ipython",
    "version": 3
   },
   "file_extension": ".py",
   "mimetype": "text/x-python",
   "name": "python",
   "nbconvert_exporter": "python",
   "pygments_lexer": "ipython3",
   "version": "3.7.4"
  }
 },
 "nbformat": 4,
 "nbformat_minor": 2
}
